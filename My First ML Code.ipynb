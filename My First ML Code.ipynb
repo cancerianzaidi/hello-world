{
 "cells": [
  {
   "cell_type": "code",
   "execution_count": 1,
   "id": "90df78dd",
   "metadata": {
    "_cell_guid": "b1076dfc-b9ad-4769-8c92-a6c4dae69d19",
    "_uuid": "8f2839f25d086af736a60e9eeb907d3b93b6e0e5",
    "execution": {
     "iopub.execute_input": "2022-05-12T09:59:49.586850Z",
     "iopub.status.busy": "2022-05-12T09:59:49.586460Z",
     "iopub.status.idle": "2022-05-12T09:59:49.605162Z",
     "shell.execute_reply": "2022-05-12T09:59:49.604341Z"
    },
    "papermill": {
     "duration": 0.039869,
     "end_time": "2022-05-12T09:59:49.607611",
     "exception": false,
     "start_time": "2022-05-12T09:59:49.567742",
     "status": "completed"
    },
    "tags": []
   },
   "outputs": [
    {
     "name": "stdout",
     "output_type": "stream",
     "text": [
      "/kaggle/input/mnist-data-for-digit-recognation/t10k-images-idx3-ubyte.gz\n",
      "/kaggle/input/mnist-data-for-digit-recognation/train-images.idx3-ubyte\n",
      "/kaggle/input/mnist-data-for-digit-recognation/t10k-labels-idx1-ubyte.gz\n",
      "/kaggle/input/mnist-data-for-digit-recognation/train-labels-idx1-ubyte.gz\n",
      "/kaggle/input/mnist-data-for-digit-recognation/t10k-labels.idx1-ubyte\n",
      "/kaggle/input/mnist-data-for-digit-recognation/t10k-images.idx3-ubyte\n",
      "/kaggle/input/mnist-data-for-digit-recognation/train-labels.idx1-ubyte\n",
      "/kaggle/input/mnist-data-for-digit-recognation/train-images-idx3-ubyte.gz\n"
     ]
    }
   ],
   "source": [
    "# This Python 3 environment comes with many helpful analytics libraries installed\n",
    "# It is defined by the kaggle/python Docker image: https://github.com/kaggle/docker-python\n",
    "# For example, here's several helpful packages to load\n",
    "\n",
    "import numpy as np # linear algebra\n",
    "import pandas as pd # data processing, CSV file I/O (e.g. pd.read_csv)\n",
    "\n",
    "# Input data files are available in the read-only \"../input/\" directory\n",
    "# For example, running this (by clicking run or pressing Shift+Enter) will list all files under the input directory\n",
    "\n",
    "import os\n",
    "for dirname, _, filenames in os.walk('/kaggle/input'):\n",
    "    for filename in filenames:\n",
    "        print(os.path.join(dirname, filename))\n",
    "\n",
    "# You can write up to 20GB to the current directory (/kaggle/working/) that gets preserved as output when you create a version using \"Save & Run All\" \n",
    "# You can also write temporary files to /kaggle/temp/, but they won't be saved outside of the current session"
   ]
  },
  {
   "cell_type": "code",
   "execution_count": 2,
   "id": "9d3ef5ca",
   "metadata": {
    "execution": {
     "iopub.execute_input": "2022-05-12T09:59:49.643486Z",
     "iopub.status.busy": "2022-05-12T09:59:49.642946Z",
     "iopub.status.idle": "2022-05-12T09:59:56.730929Z",
     "shell.execute_reply": "2022-05-12T09:59:56.729964Z"
    },
    "papermill": {
     "duration": 7.107985,
     "end_time": "2022-05-12T09:59:56.733588",
     "exception": false,
     "start_time": "2022-05-12T09:59:49.625603",
     "status": "completed"
    },
    "tags": []
   },
   "outputs": [],
   "source": [
    "import numpy as np\n",
    "import matplotlib.pyplot as plt\n",
    "from sklearn.model_selection import train_test_split\n",
    "from tensorflow import keras\n",
    "from tensorflow.keras.models import Sequential\n",
    "from tensorflow.keras.layers import Dense, Flatten, Conv2D, MaxPooling2D\n",
    "from keras.models import Model\n",
    "from keras.models import Input, InputLayer\n",
    "from keras import backend as K\n",
    "from tensorflow.keras.callbacks import EarlyStopping\n",
    "from tensorflow.keras.callbacks import ModelCheckpoint\n",
    "from tensorflow.keras.models import load_model\n",
    "import h5py"
   ]
  },
  {
   "cell_type": "code",
   "execution_count": 3,
   "id": "e699f5c5",
   "metadata": {
    "execution": {
     "iopub.execute_input": "2022-05-12T09:59:56.768790Z",
     "iopub.status.busy": "2022-05-12T09:59:56.768476Z",
     "iopub.status.idle": "2022-05-12T09:59:57.342783Z",
     "shell.execute_reply": "2022-05-12T09:59:57.342107Z"
    },
    "papermill": {
     "duration": 0.594911,
     "end_time": "2022-05-12T09:59:57.344997",
     "exception": false,
     "start_time": "2022-05-12T09:59:56.750086",
     "status": "completed"
    },
    "tags": []
   },
   "outputs": [
    {
     "name": "stdout",
     "output_type": "stream",
     "text": [
      "Downloading data from https://storage.googleapis.com/tensorflow/tf-keras-datasets/mnist.npz\n",
      "11493376/11490434 [==============================] - 0s 0us/step\n",
      "11501568/11490434 [==============================] - 0s 0us/step\n"
     ]
    }
   ],
   "source": [
    "import tensorflow as tf\n",
    "mnist = tf.keras.datasets.mnist\n",
    "(x_train, y_train), (x_test, y_test) = mnist.load_data()"
   ]
  },
  {
   "cell_type": "code",
   "execution_count": 4,
   "id": "ad459fb1",
   "metadata": {
    "execution": {
     "iopub.execute_input": "2022-05-12T09:59:57.382992Z",
     "iopub.status.busy": "2022-05-12T09:59:57.382595Z",
     "iopub.status.idle": "2022-05-12T09:59:57.391719Z",
     "shell.execute_reply": "2022-05-12T09:59:57.391156Z"
    },
    "papermill": {
     "duration": 0.030981,
     "end_time": "2022-05-12T09:59:57.394059",
     "exception": false,
     "start_time": "2022-05-12T09:59:57.363078",
     "status": "completed"
    },
    "tags": []
   },
   "outputs": [
    {
     "name": "stdout",
     "output_type": "stream",
     "text": [
      "[[  0   0   0   0   0   0   0   0   0   0   0   0   0   0   0   0   0   0\n",
      "    0   0   0   0   0   0   0   0   0   0]\n",
      " [  0   0   0   0   0   0   0   0   0   0   0   0   0   0   0   0   0   0\n",
      "    0   0   0   0   0   0   0   0   0   0]\n",
      " [  0   0   0   0   0   0   0   0   0   0   0   0   0   0   0   0   0   0\n",
      "    0   0   0   0   0   0   0   0   0   0]\n",
      " [  0   0   0   0   0   0   0   0   0   0   0   0   0   0   0   0   0   0\n",
      "    0   0   0   0   0   0   0   0   0   0]\n",
      " [  0   0   0   0   0   0   0   0   0   0   0   0   0   0   0   0   0   0\n",
      "    0   0   0   0   0   0   0   0   0   0]\n",
      " [  0   0   0   0   0   0   0   0   0   0   0   0   3  18  18  18 126 136\n",
      "  175  26 166 255 247 127   0   0   0   0]\n",
      " [  0   0   0   0   0   0   0   0  30  36  94 154 170 253 253 253 253 253\n",
      "  225 172 253 242 195  64   0   0   0   0]\n",
      " [  0   0   0   0   0   0   0  49 238 253 253 253 253 253 253 253 253 251\n",
      "   93  82  82  56  39   0   0   0   0   0]\n",
      " [  0   0   0   0   0   0   0  18 219 253 253 253 253 253 198 182 247 241\n",
      "    0   0   0   0   0   0   0   0   0   0]\n",
      " [  0   0   0   0   0   0   0   0  80 156 107 253 253 205  11   0  43 154\n",
      "    0   0   0   0   0   0   0   0   0   0]\n",
      " [  0   0   0   0   0   0   0   0   0  14   1 154 253  90   0   0   0   0\n",
      "    0   0   0   0   0   0   0   0   0   0]\n",
      " [  0   0   0   0   0   0   0   0   0   0   0 139 253 190   2   0   0   0\n",
      "    0   0   0   0   0   0   0   0   0   0]\n",
      " [  0   0   0   0   0   0   0   0   0   0   0  11 190 253  70   0   0   0\n",
      "    0   0   0   0   0   0   0   0   0   0]\n",
      " [  0   0   0   0   0   0   0   0   0   0   0   0  35 241 225 160 108   1\n",
      "    0   0   0   0   0   0   0   0   0   0]\n",
      " [  0   0   0   0   0   0   0   0   0   0   0   0   0  81 240 253 253 119\n",
      "   25   0   0   0   0   0   0   0   0   0]\n",
      " [  0   0   0   0   0   0   0   0   0   0   0   0   0   0  45 186 253 253\n",
      "  150  27   0   0   0   0   0   0   0   0]\n",
      " [  0   0   0   0   0   0   0   0   0   0   0   0   0   0   0  16  93 252\n",
      "  253 187   0   0   0   0   0   0   0   0]\n",
      " [  0   0   0   0   0   0   0   0   0   0   0   0   0   0   0   0   0 249\n",
      "  253 249  64   0   0   0   0   0   0   0]\n",
      " [  0   0   0   0   0   0   0   0   0   0   0   0   0   0  46 130 183 253\n",
      "  253 207   2   0   0   0   0   0   0   0]\n",
      " [  0   0   0   0   0   0   0   0   0   0   0   0  39 148 229 253 253 253\n",
      "  250 182   0   0   0   0   0   0   0   0]\n",
      " [  0   0   0   0   0   0   0   0   0   0  24 114 221 253 253 253 253 201\n",
      "   78   0   0   0   0   0   0   0   0   0]\n",
      " [  0   0   0   0   0   0   0   0  23  66 213 253 253 253 253 198  81   2\n",
      "    0   0   0   0   0   0   0   0   0   0]\n",
      " [  0   0   0   0   0   0  18 171 219 253 253 253 253 195  80   9   0   0\n",
      "    0   0   0   0   0   0   0   0   0   0]\n",
      " [  0   0   0   0  55 172 226 253 253 253 253 244 133  11   0   0   0   0\n",
      "    0   0   0   0   0   0   0   0   0   0]\n",
      " [  0   0   0   0 136 253 253 253 212 135 132  16   0   0   0   0   0   0\n",
      "    0   0   0   0   0   0   0   0   0   0]\n",
      " [  0   0   0   0   0   0   0   0   0   0   0   0   0   0   0   0   0   0\n",
      "    0   0   0   0   0   0   0   0   0   0]\n",
      " [  0   0   0   0   0   0   0   0   0   0   0   0   0   0   0   0   0   0\n",
      "    0   0   0   0   0   0   0   0   0   0]\n",
      " [  0   0   0   0   0   0   0   0   0   0   0   0   0   0   0   0   0   0\n",
      "    0   0   0   0   0   0   0   0   0   0]]\n"
     ]
    }
   ],
   "source": [
    "print (x_train[0])"
   ]
  },
  {
   "cell_type": "code",
   "execution_count": 5,
   "id": "9bd7c657",
   "metadata": {
    "execution": {
     "iopub.execute_input": "2022-05-12T09:59:57.433581Z",
     "iopub.status.busy": "2022-05-12T09:59:57.433108Z",
     "iopub.status.idle": "2022-05-12T09:59:57.648697Z",
     "shell.execute_reply": "2022-05-12T09:59:57.648132Z"
    },
    "papermill": {
     "duration": 0.237438,
     "end_time": "2022-05-12T09:59:57.650585",
     "exception": false,
     "start_time": "2022-05-12T09:59:57.413147",
     "status": "completed"
    },
    "tags": []
   },
   "outputs": [
    {
     "data": {
      "text/plain": [
       "<function matplotlib.pyplot.show(close=None, block=None)>"
      ]
     },
     "execution_count": 5,
     "metadata": {},
     "output_type": "execute_result"
    },
    {
     "data": {
      "image/png": "[encoded data removed]",
      "text/plain": [
       "<Figure size 432x288 with 1 Axes>"
      ]
     },
     "metadata": {
      "needs_background": "light"
     },
     "output_type": "display_data"
    }
   ],
   "source": [
    "plt.imshow(x_train[2])\n",
    "plt.show"
   ]
  },
  {
   "cell_type": "code",
   "execution_count": 6,
   "id": "821a0ba6",
   "metadata": {
    "execution": {
     "iopub.execute_input": "2022-05-12T09:59:57.691149Z",
     "iopub.status.busy": "2022-05-12T09:59:57.690698Z",
     "iopub.status.idle": "2022-05-12T09:59:58.302939Z",
     "shell.execute_reply": "2022-05-12T09:59:58.302213Z"
    },
    "papermill": {
     "duration": 0.635185,
     "end_time": "2022-05-12T09:59:58.305132",
     "exception": false,
     "start_time": "2022-05-12T09:59:57.669947",
     "status": "completed"
    },
    "tags": []
   },
   "outputs": [],
   "source": [
    "x_train = tf.keras.utils.normalize(x_train, axis = 1)\n",
    "x_test = tf.keras.utils.normalize(x_test, axis = 1)"
   ]
  },
  {
   "cell_type": "code",
   "execution_count": 7,
   "id": "938bd081",
   "metadata": {
    "execution": {
     "iopub.execute_input": "2022-05-12T09:59:58.345736Z",
     "iopub.status.busy": "2022-05-12T09:59:58.345275Z",
     "iopub.status.idle": "2022-05-12T09:59:58.531231Z",
     "shell.execute_reply": "2022-05-12T09:59:58.530406Z"
    },
    "papermill": {
     "duration": 0.208823,
     "end_time": "2022-05-12T09:59:58.533351",
     "exception": false,
     "start_time": "2022-05-12T09:59:58.324528",
     "status": "completed"
    },
    "tags": []
   },
   "outputs": [
    {
     "data": {
      "text/plain": [
       "<function matplotlib.pyplot.show(close=None, block=None)>"
      ]
     },
     "execution_count": 7,
     "metadata": {},
     "output_type": "execute_result"
    },
    {
     "data": {
      "image/png": "[encoded data removed]",
      "text/plain": [
       "<Figure size 432x288 with 1 Axes>"
      ]
     },
     "metadata": {
      "needs_background": "light"
     },
     "output_type": "display_data"
    }
   ],
   "source": [
    "plt.imshow(x_train[0], plt.cm.binary)\n",
    "plt.show"
   ]
  },
  {
   "cell_type": "code",
   "execution_count": 8,
   "id": "ce0fe2dd",
   "metadata": {
    "execution": {
     "iopub.execute_input": "2022-05-12T09:59:58.575759Z",
     "iopub.status.busy": "2022-05-12T09:59:58.575453Z",
     "iopub.status.idle": "2022-05-12T10:00:14.621248Z",
     "shell.execute_reply": "2022-05-12T10:00:14.620412Z"
    },
    "papermill": {
     "duration": 16.069302,
     "end_time": "2022-05-12T10:00:14.623266",
     "exception": false,
     "start_time": "2022-05-12T09:59:58.553964",
     "status": "completed"
    },
    "tags": []
   },
   "outputs": [
    {
     "name": "stderr",
     "output_type": "stream",
     "text": [
      "2022-05-12 09:59:58.612444: I tensorflow/core/common_runtime/process_util.cc:146] Creating new thread pool with default inter op setting: 2. Tune using inter_op_parallelism_threads for best performance.\n",
      "2022-05-12 09:59:58.965760: I tensorflow/compiler/mlir/mlir_graph_optimization_pass.cc:185] None of the MLIR Optimization Passes are enabled (registered 2)\n"
     ]
    },
    {
     "name": "stdout",
     "output_type": "stream",
     "text": [
      "Epoch 1/3\n",
      "1875/1875 [==============================] - 5s 3ms/step - loss: 1.5761 - accuracy: 0.8975\n",
      "Epoch 2/3\n",
      "1875/1875 [==============================] - 5s 3ms/step - loss: 1.5174 - accuracy: 0.9467\n",
      "Epoch 3/3\n",
      "1875/1875 [==============================] - 5s 3ms/step - loss: 1.5043 - accuracy: 0.9583\n"
     ]
    },
    {
     "data": {
      "text/plain": [
       "<keras.callbacks.History at 0x7fd418c64750>"
      ]
     },
     "execution_count": 8,
     "metadata": {},
     "output_type": "execute_result"
    }
   ],
   "source": [
    "model = tf.keras.models.Sequential()\n",
    "model.add(tf.keras.layers.Flatten())\n",
    "model.add(tf.keras.layers.Dense(128, activation = tf.nn.relu))\n",
    "model.add(tf.keras.layers.Dense(128, activation = tf.nn.relu))\n",
    "model.add(tf.keras.layers.Dense(10, activation = tf.nn.softmax))\n",
    "\n",
    "model.compile(optimizer = 'adam', loss = tf.keras.losses.SparseCategoricalCrossentropy(from_logits=True),\n",
    "             metrics=['accuracy'])\n",
    "model.fit(x_train, y_train, epochs=3)"
   ]
  },
  {
   "cell_type": "code",
   "execution_count": 9,
   "id": "c39c1f8a",
   "metadata": {
    "execution": {
     "iopub.execute_input": "2022-05-12T10:00:14.883572Z",
     "iopub.status.busy": "2022-05-12T10:00:14.882996Z",
     "iopub.status.idle": "2022-05-12T10:01:21.731879Z",
     "shell.execute_reply": "2022-05-12T10:01:21.730549Z"
    },
    "papermill": {
     "duration": 66.980731,
     "end_time": "2022-05-12T10:01:21.734104",
     "exception": false,
     "start_time": "2022-05-12T10:00:14.753373",
     "status": "completed"
    },
    "tags": []
   },
   "outputs": [
    {
     "name": "stdout",
     "output_type": "stream",
     "text": [
      "Epoch 1/15\n",
      "1875/1875 [==============================] - 5s 2ms/step - loss: 1.4969 - accuracy: 0.9654\n",
      "Epoch 2/15\n",
      "1875/1875 [==============================] - 4s 2ms/step - loss: 1.4915 - accuracy: 0.9706\n",
      "Epoch 3/15\n",
      "1875/1875 [==============================] - 4s 2ms/step - loss: 1.4874 - accuracy: 0.9745\n",
      "Epoch 4/15\n",
      "1875/1875 [==============================] - 4s 2ms/step - loss: 1.4857 - accuracy: 0.9760\n",
      "Epoch 5/15\n",
      "1875/1875 [==============================] - 4s 2ms/step - loss: 1.4832 - accuracy: 0.9784\n",
      "Epoch 6/15\n",
      "1875/1875 [==============================] - 5s 3ms/step - loss: 1.4807 - accuracy: 0.9809\n",
      "Epoch 7/15\n",
      "1875/1875 [==============================] - 4s 2ms/step - loss: 1.4798 - accuracy: 0.9820\n",
      "Epoch 8/15\n",
      "1875/1875 [==============================] - 4s 2ms/step - loss: 1.4785 - accuracy: 0.9830\n",
      "Epoch 9/15\n",
      "1875/1875 [==============================] - 4s 2ms/step - loss: 1.4778 - accuracy: 0.9837\n",
      "Epoch 10/15\n",
      "1875/1875 [==============================] - 4s 2ms/step - loss: 1.4761 - accuracy: 0.9851\n",
      "Epoch 11/15\n",
      "1875/1875 [==============================] - 4s 2ms/step - loss: 1.4759 - accuracy: 0.9854\n",
      "Epoch 12/15\n",
      "1875/1875 [==============================] - 5s 2ms/step - loss: 1.4753 - accuracy: 0.9859\n",
      "Epoch 13/15\n",
      "1875/1875 [==============================] - 4s 2ms/step - loss: 1.4747 - accuracy: 0.9866\n",
      "Epoch 14/15\n",
      "1875/1875 [==============================] - 5s 3ms/step - loss: 1.4742 - accuracy: 0.9872\n",
      "Epoch 15/15\n",
      "1875/1875 [==============================] - 4s 2ms/step - loss: 1.4735 - accuracy: 0.9879\n"
     ]
    },
    {
     "data": {
      "text/plain": [
       "<keras.callbacks.History at 0x7fd3f868ba50>"
      ]
     },
     "execution_count": 9,
     "metadata": {},
     "output_type": "execute_result"
    }
   ],
   "source": [
    "model.compile(optimizer = 'adam', loss = tf.keras.losses.SparseCategoricalCrossentropy(from_logits=True),\n",
    "             metrics=['accuracy'])\n",
    "model.fit(x_train, y_train, epochs=15)"
   ]
  },
  {
   "cell_type": "code",
   "execution_count": 10,
   "id": "b68d818e",
   "metadata": {
    "execution": {
     "iopub.execute_input": "2022-05-12T10:01:22.944942Z",
     "iopub.status.busy": "2022-05-12T10:01:22.944630Z",
     "iopub.status.idle": "2022-05-12T10:01:23.737207Z",
     "shell.execute_reply": "2022-05-12T10:01:23.736091Z"
    },
    "papermill": {
     "duration": 1.401343,
     "end_time": "2022-05-12T10:01:23.739354",
     "exception": false,
     "start_time": "2022-05-12T10:01:22.338011",
     "status": "completed"
    },
    "tags": []
   },
   "outputs": [
    {
     "name": "stdout",
     "output_type": "stream",
     "text": [
      "313/313 [==============================] - 1s 2ms/step - loss: 1.4900 - accuracy: 0.9709\n",
      "1.490004062652588 0.9708999991416931\n"
     ]
    }
   ],
   "source": [
    "val_loss, val_acc = model.evaluate(x_test, y_test)\n",
    "print(val_loss, val_acc)"
   ]
  },
  {
   "cell_type": "code",
   "execution_count": 11,
   "id": "e628faa7",
   "metadata": {
    "execution": {
     "iopub.execute_input": "2022-05-12T10:01:24.969186Z",
     "iopub.status.busy": "2022-05-12T10:01:24.968520Z",
     "iopub.status.idle": "2022-05-12T10:01:25.495443Z",
     "shell.execute_reply": "2022-05-12T10:01:25.494792Z"
    },
    "papermill": {
     "duration": 1.149619,
     "end_time": "2022-05-12T10:01:25.497573",
     "exception": false,
     "start_time": "2022-05-12T10:01:24.347954",
     "status": "completed"
    },
    "tags": []
   },
   "outputs": [],
   "source": [
    "predictions = model.predict([x_test])"
   ]
  },
  {
   "cell_type": "code",
   "execution_count": 12,
   "id": "72d7a488",
   "metadata": {
    "execution": {
     "iopub.execute_input": "2022-05-12T10:01:26.716257Z",
     "iopub.status.busy": "2022-05-12T10:01:26.715756Z",
     "iopub.status.idle": "2022-05-12T10:01:26.721778Z",
     "shell.execute_reply": "2022-05-12T10:01:26.720776Z"
    },
    "papermill": {
     "duration": 0.619196,
     "end_time": "2022-05-12T10:01:26.724084",
     "exception": false,
     "start_time": "2022-05-12T10:01:26.104888",
     "status": "completed"
    },
    "tags": []
   },
   "outputs": [
    {
     "name": "stdout",
     "output_type": "stream",
     "text": [
      "[[0.00000000e+00 4.83826704e-31 2.35550166e-31 ... 1.00000000e+00\n",
      "  1.04679260e-37 0.00000000e+00]\n",
      " [2.26297916e-35 1.12780221e-13 1.00000000e+00 ... 0.00000000e+00\n",
      "  1.05736804e-29 0.00000000e+00]\n",
      " [1.83143798e-32 1.00000000e+00 1.31026394e-24 ... 5.09979056e-16\n",
      "  5.43402076e-17 1.01640891e-33]\n",
      " ...\n",
      " [2.14542163e-30 3.64587506e-26 9.88120175e-30 ... 6.04293565e-21\n",
      "  1.48285567e-24 3.24529224e-20]\n",
      " [5.41819984e-27 1.31534965e-20 3.03837165e-35 ... 1.02970877e-26\n",
      "  3.87545464e-13 1.80625819e-33]\n",
      " [3.46315419e-30 0.00000000e+00 9.64273786e-37 ... 0.00000000e+00\n",
      "  1.69720029e-38 0.00000000e+00]]\n"
     ]
    }
   ],
   "source": [
    "print(predictions)"
   ]
  },
  {
   "cell_type": "code",
   "execution_count": 13,
   "id": "b45b7940",
   "metadata": {
    "execution": {
     "iopub.execute_input": "2022-05-12T10:01:27.953623Z",
     "iopub.status.busy": "2022-05-12T10:01:27.953121Z",
     "iopub.status.idle": "2022-05-12T10:01:27.957655Z",
     "shell.execute_reply": "2022-05-12T10:01:27.956710Z"
    },
    "papermill": {
     "duration": 0.617138,
     "end_time": "2022-05-12T10:01:27.959597",
     "exception": false,
     "start_time": "2022-05-12T10:01:27.342459",
     "status": "completed"
    },
    "tags": []
   },
   "outputs": [
    {
     "name": "stdout",
     "output_type": "stream",
     "text": [
      "0\n"
     ]
    }
   ],
   "source": [
    "print(np.argmax(predictions[28]))"
   ]
  },
  {
   "cell_type": "code",
   "execution_count": 14,
   "id": "63ac59fe",
   "metadata": {
    "execution": {
     "iopub.execute_input": "2022-05-12T10:01:29.209243Z",
     "iopub.status.busy": "2022-05-12T10:01:29.208753Z",
     "iopub.status.idle": "2022-05-12T10:01:29.378142Z",
     "shell.execute_reply": "2022-05-12T10:01:29.377320Z"
    },
    "papermill": {
     "duration": 0.785764,
     "end_time": "2022-05-12T10:01:29.380265",
     "exception": false,
     "start_time": "2022-05-12T10:01:28.594501",
     "status": "completed"
    },
    "tags": []
   },
   "outputs": [
    {
     "data": {
      "image/png": "[encoded data removed]",
      "text/plain": [
       "<Figure size 432x288 with 1 Axes>"
      ]
     },
     "metadata": {
      "needs_background": "light"
     },
     "output_type": "display_data"
    }
   ],
   "source": [
    "plt.imshow(x_test[28])\n",
    "plt.show()"
   ]
  },
  {
   "cell_type": "code",
   "execution_count": null,
   "id": "3de3320b",
   "metadata": {
    "papermill": {
     "duration": 0.60406,
     "end_time": "2022-05-12T10:01:30.591459",
     "exception": false,
     "start_time": "2022-05-12T10:01:29.987399",
     "status": "completed"
    },
    "tags": []
   },
   "outputs": [],
   "source": []
  }
 ],
 "metadata": {
  "kernelspec": {
   "display_name": "Python 3",
   "language": "python",
   "name": "python3"
  },
  "language_info": {
   "codemirror_mode": {
    "name": "ipython",
    "version": 3
   },
   "file_extension": ".py",
   "mimetype": "text/x-python",
   "name": "python",
   "nbconvert_exporter": "python",
   "pygments_lexer": "ipython3",
   "version": "3.7.12"
  },
  "papermill": {
   "default_parameters": {},
   "duration": 114.734301,
   "end_time": "2022-05-12T10:01:34.626935",
   "environment_variables": {},
   "exception": null,
   "input_path": "__notebook__.ipynb",
   "output_path": "__notebook__.ipynb",
   "parameters": {},
   "start_time": "2022-05-12T09:59:39.892634",
   "version": "2.3.4"
  }
 },
 "nbformat": 4,
 "nbformat_minor": 5
}
